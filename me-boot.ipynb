{
 "cells": [
  {
   "cell_type": "code",
   "execution_count": 1,
   "id": "b8716480",
   "metadata": {},
   "outputs": [],
   "source": [
    "import yfinance as yf\n",
    "import pandas as pd\n",
    "import numpy as np\n",
    "\n",
    "import matplotlib.pyplot as plt\n",
    "import seaborn as sns"
   ]
  },
  {
   "cell_type": "code",
   "execution_count": 21,
   "id": "f7dff5f1",
   "metadata": {},
   "outputs": [],
   "source": [
    "from scipy import stats"
   ]
  },
  {
   "cell_type": "markdown",
   "id": "5e4a7948",
   "metadata": {},
   "source": []
  },
  {
   "cell_type": "code",
   "execution_count": 2,
   "id": "36f6baff",
   "metadata": {},
   "outputs": [
    {
     "name": "stdout",
     "output_type": "stream",
     "text": [
      "YF.download() has changed argument auto_adjust default to True\n"
     ]
    },
    {
     "name": "stderr",
     "output_type": "stream",
     "text": [
      "[*********************100%***********************]  1 of 1 completed\n"
     ]
    }
   ],
   "source": [
    "# Download historical BTC-USD data\n",
    "btc = yf.download(\"BTC-USD\", start=\"2020-01-01\", interval=\"1d\")\n",
    "\n",
    "# Optional: Reset index if you want 'Date' as a column\n",
    "btc.reset_index(inplace=True)\n",
    "\n",
    "# Flatten the multi-index columns\n",
    "btc.columns = btc.columns.droplevel(1)"
   ]
  },
  {
   "cell_type": "code",
   "execution_count": 3,
   "id": "396740a4",
   "metadata": {},
   "outputs": [],
   "source": [
    "btc['log-return'] = np.log(btc['Close']).diff()"
   ]
  },
  {
   "cell_type": "code",
   "execution_count": 8,
   "id": "04903923",
   "metadata": {},
   "outputs": [],
   "source": [
    "btc_ret = btc['log-return'].dropna().values"
   ]
  },
  {
   "cell_type": "code",
   "execution_count": 9,
   "id": "f7698d50",
   "metadata": {},
   "outputs": [
    {
     "data": {
      "text/plain": [
       "array([-0.03027293,  0.05017175,  0.00891501, ..., -0.01250171,\n",
       "        0.01311103, -0.00552977], shape=(1960,))"
      ]
     },
     "execution_count": 9,
     "metadata": {},
     "output_type": "execute_result"
    }
   ],
   "source": [
    "btc_ret"
   ]
  },
  {
   "cell_type": "code",
   "execution_count": 14,
   "id": "203178b0",
   "metadata": {},
   "outputs": [
    {
     "data": {
      "text/plain": [
       "array([-0.46473018, -0.17405255, -0.15488955, ...,  0.13576426,\n",
       "        0.16710432,  0.17182056], shape=(1960,))"
      ]
     },
     "execution_count": 14,
     "metadata": {},
     "output_type": "execute_result"
    }
   ],
   "source": [
    "x = np.sort(btc_ret)\n",
    "x"
   ]
  },
  {
   "cell_type": "code",
   "execution_count": 15,
   "id": "28edc8c0",
   "metadata": {},
   "outputs": [
    {
     "data": {
      "text/plain": [
       "array([  70,  893, 1042, ...,  788,   77,  403], shape=(1960,))"
      ]
     },
     "execution_count": 15,
     "metadata": {},
     "output_type": "execute_result"
    }
   ],
   "source": [
    "order_x = np.argsort(btc_ret)\n",
    "order_x"
   ]
  },
  {
   "cell_type": "code",
   "execution_count": 17,
   "id": "334b1de7",
   "metadata": {},
   "outputs": [
    {
     "data": {
      "text/plain": [
       "array([-0.31939136, -0.16447105, -0.15149831, ...,  0.12780283,\n",
       "        0.15143429,  0.16946244], shape=(1959,))"
      ]
     },
     "execution_count": 17,
     "metadata": {},
     "output_type": "execute_result"
    }
   ],
   "source": [
    "# Step two, Compute intermediate value\n",
    "z = np.array(pd.Series(x).rolling(2).mean().dropna())\n",
    "z"
   ]
  },
  {
   "cell_type": "code",
   "execution_count": 19,
   "id": "4bead1d2",
   "metadata": {},
   "outputs": [
    {
     "data": {
      "text/plain": [
       "array([0.08044467, 0.04125674, 0.00882587, ..., 0.00685073, 0.02561275,\n",
       "       0.0186408 ], shape=(1959,))"
      ]
     },
     "execution_count": 19,
     "metadata": {},
     "output_type": "execute_result"
    }
   ],
   "source": [
    "dv = abs(np.diff(btc_ret))\n",
    "dv"
   ]
  },
  {
   "cell_type": "code",
   "execution_count": 23,
   "id": "efaa84c3",
   "metadata": {},
   "outputs": [
    {
     "data": {
      "text/plain": [
       "np.float64(0.028802705883321636)"
      ]
     },
     "execution_count": 23,
     "metadata": {},
     "output_type": "execute_result"
    }
   ],
   "source": [
    "# Step three, Compute trimmed mean, with pre-specified trim range\n",
    "trimval = 0.1\n",
    "dvtrim = stats.trim_mean(dv, trimval)\n",
    "dvtrim"
   ]
  },
  {
   "cell_type": "code",
   "execution_count": 25,
   "id": "e4472013",
   "metadata": {},
   "outputs": [
    {
     "data": {
      "text/plain": [
       "(np.float64(-0.49353288122309574), np.float64(0.2006232677714455))"
      ]
     },
     "execution_count": 25,
     "metadata": {},
     "output_type": "execute_result"
    }
   ],
   "source": [
    "# Step four, Compute upper limit and lower limit\n",
    "xmin = x[0] - dvtrim\n",
    "xmax = x[-1] + dvtrim\n",
    "\n",
    "xmin, xmax"
   ]
  }
 ],
 "metadata": {
  "kernelspec": {
   "display_name": "ml",
   "language": "python",
   "name": "python3"
  },
  "language_info": {
   "codemirror_mode": {
    "name": "ipython",
    "version": 3
   },
   "file_extension": ".py",
   "mimetype": "text/x-python",
   "name": "python",
   "nbconvert_exporter": "python",
   "pygments_lexer": "ipython3",
   "version": "3.13.5"
  }
 },
 "nbformat": 4,
 "nbformat_minor": 5
}
