{
 "cells": [
  {
   "cell_type": "markdown",
   "id": "5bdab5b5",
   "metadata": {},
   "source": [
    "# 3 เรื่องพื้นฐานของ PyTorch\n",
    "\n",
    "เป็น framework ที่ได้รับความนิยมสำหรับสร้าง Deep Learning Model\n"
   ]
  },
  {
   "cell_type": "code",
   "execution_count": 59,
   "id": "d0523e3d",
   "metadata": {},
   "outputs": [],
   "source": [
    "import torch"
   ]
  },
  {
   "cell_type": "markdown",
   "id": "648721ee",
   "metadata": {},
   "source": [
    "## 1. Tensors\n",
    "ตารางเก็บข้อมูลเชิงตัวเลข (Numerical)  ที่แต่ละ element มี index ในการระบุตำแหน่ง\n",
    "\n",
    "Matrix\n",
    "\n",
    "ลองมอง Matrix เหมือนแผนที่ ที่มีพิกัด Lattitude, Longtitude\n",
    "\n",
    "$$\n",
    "\\begin{bmatrix}\n",
    "(1, 1) & (1, 2) & (1, 3)\\\\\n",
    "(2, 1) & (2, 2) & (2, 3)\\\\\n",
    "(3, 1) & (3, 2) & (3, 3)\\\\\n",
    "\\end{bmatrix}\n",
    "$$\n",
    "\n",
    "เรามักจะเห็น Matrix ได้รูปร่างหน้าตาแบบนี้:\n",
    "$$\n",
    "\\mathbf{A}  =\n",
    "\\begin{bmatrix}\n",
    "a_{11} & a_{12} & a_{13} \\\\\n",
    "a_{21} & a_{22} & a_{23} \\\\\n",
    "a_{31} & a_{32} & a_{33}\n",
    "\\end{bmatrix}\n",
    "$$\n",
    "\n",
    "ตัวอย่างเช่น: \n",
    "$$\\mathbf{A} =\n",
    "\\begin{bmatrix}\n",
    "1 & 2 & 3 \\\\\n",
    "4 & 5 & 6 \\\\\n",
    "7 & 8 & 9\n",
    "\\end{bmatrix}$$\n",
    "\n",
    "### 1.1 Scalar (หน่วยเล็กสุดของ Tensor)"
   ]
  },
  {
   "cell_type": "code",
   "execution_count": 60,
   "id": "92b8e160",
   "metadata": {},
   "outputs": [
    {
     "data": {
      "text/plain": [
       "tensor(7)"
      ]
     },
     "execution_count": 60,
     "metadata": {},
     "output_type": "execute_result"
    }
   ],
   "source": [
    "# Scalar\n",
    "scalar = torch.tensor(7)\n",
    "scalar"
   ]
  },
  {
   "cell_type": "code",
   "execution_count": 61,
   "id": "64c7b437",
   "metadata": {},
   "outputs": [
    {
     "data": {
      "text/plain": [
       "0"
      ]
     },
     "execution_count": 61,
     "metadata": {},
     "output_type": "execute_result"
    }
   ],
   "source": [
    "# number of dimensions\n",
    "scalar.ndim "
   ]
  },
  {
   "cell_type": "code",
   "execution_count": 62,
   "id": "48e1e3be",
   "metadata": {},
   "outputs": [
    {
     "data": {
      "text/plain": [
       "torch.Size([])"
      ]
     },
     "execution_count": 62,
     "metadata": {},
     "output_type": "execute_result"
    }
   ],
   "source": [
    "scalar.shape"
   ]
  },
  {
   "cell_type": "code",
   "execution_count": 63,
   "id": "8dd2ed50",
   "metadata": {},
   "outputs": [
    {
     "data": {
      "text/plain": [
       "7"
      ]
     },
     "execution_count": 63,
     "metadata": {},
     "output_type": "execute_result"
    }
   ],
   "source": [
    "# Get tensor back as Python int\n",
    "scalar.item()"
   ]
  },
  {
   "cell_type": "markdown",
   "id": "bf96999c",
   "metadata": {},
   "source": [
    "### 1.2 Vector (Tensor 1 มิติ)"
   ]
  },
  {
   "cell_type": "code",
   "execution_count": 64,
   "id": "6365b45d",
   "metadata": {},
   "outputs": [
    {
     "data": {
      "text/plain": [
       "tensor([7, 7])"
      ]
     },
     "execution_count": 64,
     "metadata": {},
     "output_type": "execute_result"
    }
   ],
   "source": [
    "# Vector\n",
    "vector = torch.tensor([7, 7])\n",
    "vector"
   ]
  },
  {
   "cell_type": "code",
   "execution_count": 65,
   "id": "c3627b4a",
   "metadata": {},
   "outputs": [
    {
     "data": {
      "text/plain": [
       "1"
      ]
     },
     "execution_count": 65,
     "metadata": {},
     "output_type": "execute_result"
    }
   ],
   "source": [
    "# number of dimensions\n",
    "vector.ndim"
   ]
  },
  {
   "cell_type": "code",
   "execution_count": 66,
   "id": "4b9b9999",
   "metadata": {},
   "outputs": [
    {
     "data": {
      "text/plain": [
       "torch.Size([2])"
      ]
     },
     "execution_count": 66,
     "metadata": {},
     "output_type": "execute_result"
    }
   ],
   "source": [
    "vector.shape"
   ]
  },
  {
   "cell_type": "markdown",
   "id": "3d79f13b",
   "metadata": {},
   "source": [
    "### 1.3 Matrix (Tensor 2 มิติ)"
   ]
  },
  {
   "cell_type": "code",
   "execution_count": 67,
   "id": "44fa688c",
   "metadata": {},
   "outputs": [
    {
     "data": {
      "text/plain": [
       "tensor([[ 7,  8],\n",
       "        [ 9, 10]])"
      ]
     },
     "execution_count": 67,
     "metadata": {},
     "output_type": "execute_result"
    }
   ],
   "source": [
    "# Matrix\n",
    "matrix = torch.tensor([[7, 8],\n",
    "                       [9, 10]])\n",
    "\n",
    "matrix"
   ]
  },
  {
   "cell_type": "code",
   "execution_count": 68,
   "id": "12753d06",
   "metadata": {},
   "outputs": [
    {
     "data": {
      "text/plain": [
       "2"
      ]
     },
     "execution_count": 68,
     "metadata": {},
     "output_type": "execute_result"
    }
   ],
   "source": [
    "# number of dimensions\n",
    "matrix.ndim"
   ]
  },
  {
   "cell_type": "code",
   "execution_count": 69,
   "id": "94042822",
   "metadata": {},
   "outputs": [
    {
     "data": {
      "text/plain": [
       "torch.Size([2, 2])"
      ]
     },
     "execution_count": 69,
     "metadata": {},
     "output_type": "execute_result"
    }
   ],
   "source": [
    "matrix.shape"
   ]
  },
  {
   "cell_type": "markdown",
   "id": "04ee0599",
   "metadata": {},
   "source": [
    "### 1.4 Random matrix"
   ]
  },
  {
   "cell_type": "code",
   "execution_count": 70,
   "id": "bddbc85c",
   "metadata": {},
   "outputs": [
    {
     "data": {
      "text/plain": [
       "tensor([[0.1661, 0.9791, 0.4375, 0.2640],\n",
       "        [0.1210, 0.5202, 0.2462, 0.1660],\n",
       "        [0.3256, 0.8609, 0.1696, 0.7795]])"
      ]
     },
     "execution_count": 70,
     "metadata": {},
     "output_type": "execute_result"
    }
   ],
   "source": [
    "# Create a random tensor of size (or shape)\n",
    "\n",
    "random_tensor = torch.rand(3, 4)\n",
    "random_tensor"
   ]
  },
  {
   "cell_type": "code",
   "execution_count": 71,
   "id": "a974a607",
   "metadata": {},
   "outputs": [
    {
     "data": {
      "text/plain": [
       "torch.Size([3, 4])"
      ]
     },
     "execution_count": 71,
     "metadata": {},
     "output_type": "execute_result"
    }
   ],
   "source": [
    "random_tensor.shape"
   ]
  },
  {
   "cell_type": "markdown",
   "id": "631c234a",
   "metadata": {},
   "source": [
    "## 2. Tensor DataType: ความจุของหน่วยข้อมูล\n",
    "\n",
    "ข้อควรระวัง: ข้อมูล Tensor อยู่กันคนละ หน่วยความจุด จะทำการ operation กันไม่ได้"
   ]
  },
  {
   "cell_type": "code",
   "execution_count": 72,
   "id": "79169aba",
   "metadata": {},
   "outputs": [
    {
     "data": {
      "text/plain": [
       "tensor([3., 6., 9.], dtype=torch.float16)"
      ]
     },
     "execution_count": 72,
     "metadata": {},
     "output_type": "execute_result"
    }
   ],
   "source": [
    "# Create tensor with dtype float16\n",
    "float_16_tensor = torch.tensor([3.0, 6.0, 9.0], dtype = torch.float16)\n",
    "float_16_tensor"
   ]
  },
  {
   "cell_type": "code",
   "execution_count": 73,
   "id": "3c65c211",
   "metadata": {},
   "outputs": [
    {
     "data": {
      "text/plain": [
       "torch.float16"
      ]
     },
     "execution_count": 73,
     "metadata": {},
     "output_type": "execute_result"
    }
   ],
   "source": [
    "float_16_tensor.dtype"
   ]
  },
  {
   "cell_type": "code",
   "execution_count": 74,
   "id": "86d1e42a",
   "metadata": {},
   "outputs": [
    {
     "data": {
      "text/plain": [
       "tensor([3., 6., 9.])"
      ]
     },
     "execution_count": 74,
     "metadata": {},
     "output_type": "execute_result"
    }
   ],
   "source": [
    "# Create tensor with dtype float32 (Default)\n",
    "float_32_tensor = torch.tensor([3.0, 6.0, 9.0])\n",
    "float_32_tensor"
   ]
  },
  {
   "cell_type": "code",
   "execution_count": 75,
   "id": "03572f54",
   "metadata": {},
   "outputs": [
    {
     "data": {
      "text/plain": [
       "torch.float32"
      ]
     },
     "execution_count": 75,
     "metadata": {},
     "output_type": "execute_result"
    }
   ],
   "source": [
    "float_32_tensor.dtype"
   ]
  },
  {
   "cell_type": "code",
   "execution_count": 76,
   "id": "295057c8",
   "metadata": {},
   "outputs": [
    {
     "data": {
      "text/plain": [
       "tensor([ 9., 36., 81.])"
      ]
     },
     "execution_count": 76,
     "metadata": {},
     "output_type": "execute_result"
    }
   ],
   "source": [
    "res = float_32_tensor * float_16_tensor\n",
    "res"
   ]
  },
  {
   "cell_type": "code",
   "execution_count": 77,
   "id": "7944e698",
   "metadata": {},
   "outputs": [
    {
     "data": {
      "text/plain": [
       "torch.float32"
      ]
     },
     "execution_count": 77,
     "metadata": {},
     "output_type": "execute_result"
    }
   ],
   "source": [
    "res.dtype"
   ]
  },
  {
   "cell_type": "code",
   "execution_count": 78,
   "id": "9b88660d",
   "metadata": {},
   "outputs": [
    {
     "data": {
      "text/plain": [
       "tensor(126.)"
      ]
     },
     "execution_count": 78,
     "metadata": {},
     "output_type": "execute_result"
    }
   ],
   "source": [
    "res = float_32_tensor @ float_32_tensor\n",
    "res"
   ]
  },
  {
   "cell_type": "code",
   "execution_count": 79,
   "id": "264bd0d6",
   "metadata": {},
   "outputs": [
    {
     "data": {
      "text/plain": [
       "torch.float32"
      ]
     },
     "execution_count": 79,
     "metadata": {},
     "output_type": "execute_result"
    }
   ],
   "source": [
    "res.dtype"
   ]
  },
  {
   "cell_type": "code",
   "execution_count": 80,
   "id": "f809d34b",
   "metadata": {},
   "outputs": [
    {
     "ename": "RuntimeError",
     "evalue": "dot : expected both vectors to have same dtype, but found Float and Half",
     "output_type": "error",
     "traceback": [
      "\u001b[31m---------------------------------------------------------------------------\u001b[39m",
      "\u001b[31mRuntimeError\u001b[39m                              Traceback (most recent call last)",
      "\u001b[36mCell\u001b[39m\u001b[36m \u001b[39m\u001b[32mIn[80]\u001b[39m\u001b[32m, line 1\u001b[39m\n\u001b[32m----> \u001b[39m\u001b[32m1\u001b[39m \u001b[43mfloat_32_tensor\u001b[49m\u001b[43m \u001b[49m\u001b[43m@\u001b[49m\u001b[43m \u001b[49m\u001b[43mfloat_16_tensor\u001b[49m\n",
      "\u001b[31mRuntimeError\u001b[39m: dot : expected both vectors to have same dtype, but found Float and Half"
     ]
    }
   ],
   "source": [
    "float_32_tensor @ float_16_tensor"
   ]
  },
  {
   "cell_type": "markdown",
   "id": "08721804",
   "metadata": {},
   "source": [
    "## 3. Tensor Devices: อุปกรณ์ประมวลข้อมูล\n",
    "\n",
    "ข้อควรระวัง: ข้อมูล Tensor อยู่กันคนละ device จะทำการ operation กันไม่ได้"
   ]
  },
  {
   "cell_type": "code",
   "execution_count": 81,
   "id": "208cb2bf",
   "metadata": {},
   "outputs": [
    {
     "data": {
      "text/plain": [
       "False"
      ]
     },
     "execution_count": 81,
     "metadata": {},
     "output_type": "execute_result"
    }
   ],
   "source": [
    "# Check gor GPU access with PyTorch\n",
    "torch.cuda.is_available()"
   ]
  },
  {
   "cell_type": "code",
   "execution_count": 82,
   "id": "d3832885",
   "metadata": {},
   "outputs": [
    {
     "data": {
      "text/plain": [
       "'cpu'"
      ]
     },
     "execution_count": 82,
     "metadata": {},
     "output_type": "execute_result"
    }
   ],
   "source": [
    "# Setup device agnostic code\n",
    "device = 'cuda' if torch.cuda.is_available() else 'cpu'\n",
    "device"
   ]
  },
  {
   "cell_type": "code",
   "execution_count": 83,
   "id": "da8b40af",
   "metadata": {},
   "outputs": [
    {
     "data": {
      "text/plain": [
       "0"
      ]
     },
     "execution_count": 83,
     "metadata": {},
     "output_type": "execute_result"
    }
   ],
   "source": [
    "# Count number of devices\n",
    "torch.cuda.device_count()"
   ]
  },
  {
   "cell_type": "code",
   "execution_count": 84,
   "id": "5c917342",
   "metadata": {},
   "outputs": [
    {
     "name": "stdout",
     "output_type": "stream",
     "text": [
      "tensor([1, 2, 3]) cpu\n"
     ]
    }
   ],
   "source": [
    "# Create a tensor (default on the CPU)\n",
    "tensor = torch.tensor([1, 2, 3], device = 'cpu')\n",
    "\n",
    "# Tensor is not on GPU\n",
    "print(tensor, tensor.device)"
   ]
  },
  {
   "cell_type": "code",
   "execution_count": 85,
   "id": "4095a86f",
   "metadata": {},
   "outputs": [
    {
     "data": {
      "text/plain": [
       "tensor([1, 2, 3])"
      ]
     },
     "execution_count": 85,
     "metadata": {},
     "output_type": "execute_result"
    }
   ],
   "source": [
    "# Move tensor to GPU (if available)\n",
    "tensor_on_gpu = tensor.to(device)\n",
    "tensor_on_gpu"
   ]
  }
 ],
 "metadata": {
  "kernelspec": {
   "display_name": "ml",
   "language": "python",
   "name": "python3"
  },
  "language_info": {
   "codemirror_mode": {
    "name": "ipython",
    "version": 3
   },
   "file_extension": ".py",
   "mimetype": "text/x-python",
   "name": "python",
   "nbconvert_exporter": "python",
   "pygments_lexer": "ipython3",
   "version": "3.13.5"
  }
 },
 "nbformat": 4,
 "nbformat_minor": 5
}
