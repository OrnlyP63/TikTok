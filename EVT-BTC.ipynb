{
 "cells": [
  {
   "cell_type": "markdown",
   "id": "be4f4541",
   "metadata": {},
   "source": [
    "# 🧠 Using Extreme Value Theory (EVT) to Estimate the Worst-Case Loss in Bitcoin (BTC)\n",
    "**Author: Phiphat Chomchit**\n",
    "\n",
    "---\n",
    "\n",
    "## 🔍 Why EVT?\n",
    "\n",
    "Bitcoin returns \n",
    "\n",
    "$$\n",
    "r_t = \\ln\\left(\\frac{P_t}{P_{t-1}}\\right)\n",
    "$$\n",
    "\n",
    "exhibit:\n",
    "\n",
    "- High kurtosis (fat tails),\n",
    "- Volatility clustering,\n",
    "- Non-normal behavior.\n",
    "\n",
    "Standard models like Gaussian VaR **underestimate losses**. EVT focuses on tail events, making it ideal for modeling **extreme crashes**.\n",
    "\n",
    "---\n",
    "\n",
    "## 📐 EVT Approaches: Theory & Formulas\n",
    "\n",
    "### 1. Block Maxima (BM) — GEV Distribution\n",
    "\n",
    "Divide data into $n$ blocks (e.g., monthly), extract maximum return from each:\n",
    "\n",
    "$$\n",
    "M_n = \\max\\{X_1, X_2, \\dots, X_n\\}\n",
    "$$\n",
    "\n",
    "The **Generalized Extreme Value (GEV)** distribution:\n",
    "\n",
    "$$\n",
    "G(z) = \\exp \\left\\{ -\\left[1 + \\xi\\left(\\frac{z - \\mu}{\\sigma}\\right)\\right]^{-1/\\xi} \\right\\}, \\quad \\text{for } 1 + \\xi\\left(\\frac{z - \\mu}{\\sigma}\\right) > 0\n",
    "$$\n",
    "\n",
    "- $\\mu$: location  \n",
    "- $\\sigma > 0$: scale  \n",
    "- $\\xi$: shape (tail index)\n",
    "\n",
    "---\n",
    "\n",
    "### 2. Peak Over Threshold (POT) — Generalized Pareto Distribution (GPD)\n",
    "\n",
    "Focus on **tail exceedances**: values above a high threshold $u$.  \n",
    "Define exceedances:\n",
    "\n",
    "$$\n",
    "Y = X - u \\quad \\text{such that } X > u\n",
    "$$\n",
    "\n",
    "Then model $Y$ using the **GPD**:\n",
    "\n",
    "$$\n",
    "F(y) = 1 - \\left(1 + \\frac{\\xi y}{\\beta} \\right)^{-1/\\xi}, \\quad y > 0, \\quad \\text{where } 1 + \\frac{\\xi y}{\\beta} > 0\n",
    "$$\n",
    "\n",
    "- $\\xi$: shape — heavy tails when $\\xi > 0$  \n",
    "- $\\beta > 0$: scale\n",
    "\n",
    "---\n",
    "\n",
    "## ✅ Risk Measures with EVT\n",
    "\n",
    "Let:\n",
    "\n",
    "- $N$: total number of observations  \n",
    "- $N_u$: number of exceedances over $u$  \n",
    "- $F_u = \\frac{N_u}{N}$: empirical exceedance probability  \n",
    "- $\\alpha$: confidence level (e.g., 0.99)\n",
    "\n",
    "### Value at Risk (VaR):\n",
    "\n",
    "$$\n",
    "\\text{VaR}_\\alpha = u + \\frac{\\beta}{\\xi} \\left[ \\left( \\frac{1 - \\alpha}{F_u} \\right)^{-\\xi} - 1 \\right]\n",
    "$$\n",
    "\n",
    "### Expected Shortfall (ES):\n",
    "\n",
    "$$\n",
    "\\text{ES}_\\alpha = \\frac{\\text{VaR}_\\alpha}{1 - \\xi} + \\frac{\\beta - \\xi u}{1 - \\xi}\n",
    "$$\n",
    "\n",
    "---"
   ]
  },
  {
   "cell_type": "code",
   "execution_count": 1,
   "id": "9e65b926",
   "metadata": {},
   "outputs": [],
   "source": [
    "import yfinance as yf\n",
    "import numpy as np\n",
    "import pandas as pd\n",
    "import matplotlib.pyplot as plt\n",
    "import seaborn as sns\n",
    "from scipy.stats import genpareto"
   ]
  },
  {
   "cell_type": "code",
   "execution_count": 2,
   "id": "3e74e27d",
   "metadata": {},
   "outputs": [
    {
     "name": "stdout",
     "output_type": "stream",
     "text": [
      "YF.download() has changed argument auto_adjust default to True\n"
     ]
    },
    {
     "name": "stderr",
     "output_type": "stream",
     "text": [
      "[*********************100%***********************]  1 of 1 completed\n"
     ]
    }
   ],
   "source": [
    "# Download BTC daily prices\n",
    "btc = yf.download('BTC-USD', start='2018-01-01', end='2024-12-31')\n",
    "btc['Return'] = np.log(btc['Close'] / btc['Close'].shift(1))  # r_t = log(P_t / P_{t-1})\n",
    "returns = btc['Return'].dropna()"
   ]
  },
  {
   "cell_type": "code",
   "execution_count": 3,
   "id": "2363ed65",
   "metadata": {},
   "outputs": [],
   "source": [
    "# Choose 5% left-tail threshold u\n",
    "threshold = returns.quantile(0.05)\n",
    "exceedances = threshold - returns[returns < threshold]  # Y = u - X, flipped to model right tail of losses"
   ]
  },
  {
   "cell_type": "code",
   "execution_count": 4,
   "id": "3ff85eab",
   "metadata": {},
   "outputs": [
    {
     "data": {
      "text/plain": [
       "np.float64(-0.0558938532493803)"
      ]
     },
     "execution_count": 4,
     "metadata": {},
     "output_type": "execute_result"
    }
   ],
   "source": [
    "threshold"
   ]
  },
  {
   "cell_type": "code",
   "execution_count": 5,
   "id": "902324bd",
   "metadata": {},
   "outputs": [
    {
     "name": "stdout",
     "output_type": "stream",
     "text": [
      "Shape parameter ξ = 1.4908\n",
      "Scale parameter β = 0.0128\n",
      "Threshold u = -5.5894%\n",
      "97.0% Value at Risk (VaR): -6.57%\n",
      "97.0% Expected Shortfall (ES): -6.19%\n"
     ]
    }
   ],
   "source": [
    "# Fit Generalized Pareto Distribution to exceedances\n",
    "shape, loc, scale = genpareto.fit(exceedances)\n",
    "n = len(returns)\n",
    "nu = len(exceedances)\n",
    "alpha = 0.97\n",
    "Fu = nu / n  # empirical exceedance probability\n",
    "\n",
    "# EVT formula: Value-at-Risk\n",
    "VaR = threshold - (scale / shape) * (((1 - alpha) / Fu) ** (-shape) - 1)\n",
    "\n",
    "# EVT formula: Expected Shortfall\n",
    "ES = (VaR + (scale - shape * (threshold - VaR)) / (1 - shape))\n",
    "\n",
    "print(f\"Shape parameter ξ = {shape:.4f}\")\n",
    "print(f\"Scale parameter β = {scale:.4f}\")\n",
    "print(f\"Threshold u = {threshold:.4%}\")\n",
    "print(f\"{alpha*100}% Value at Risk (VaR): {VaR:.2%}\")\n",
    "print(f\"{alpha*100}% Expected Shortfall (ES): {ES:.2%}\")"
   ]
  }
 ],
 "metadata": {
  "kernelspec": {
   "display_name": "ml",
   "language": "python",
   "name": "python3"
  },
  "language_info": {
   "codemirror_mode": {
    "name": "ipython",
    "version": 3
   },
   "file_extension": ".py",
   "mimetype": "text/x-python",
   "name": "python",
   "nbconvert_exporter": "python",
   "pygments_lexer": "ipython3",
   "version": "3.13.5"
  }
 },
 "nbformat": 4,
 "nbformat_minor": 5
}
