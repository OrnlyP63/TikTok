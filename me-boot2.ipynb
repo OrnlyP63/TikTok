{
 "cells": [
  {
   "cell_type": "code",
   "execution_count": 1,
   "id": "5c04b880",
   "metadata": {},
   "outputs": [],
   "source": [
    "import yfinance as yf\n",
    "import pandas as pd\n",
    "import numpy as np\n",
    "\n",
    "import matplotlib.pyplot as plt\n",
    "import seaborn as sns"
   ]
  },
  {
   "cell_type": "code",
   "execution_count": 2,
   "id": "80d02480",
   "metadata": {},
   "outputs": [],
   "source": [
    "from pymeboot.meboot import meboot"
   ]
  },
  {
   "cell_type": "code",
   "execution_count": 3,
   "id": "549728de",
   "metadata": {},
   "outputs": [
    {
     "name": "stdout",
     "output_type": "stream",
     "text": [
      "YF.download() has changed argument auto_adjust default to True\n"
     ]
    },
    {
     "name": "stderr",
     "output_type": "stream",
     "text": [
      "[*********************100%***********************]  1 of 1 completed\n"
     ]
    }
   ],
   "source": [
    "# Download historical BTC-USD data\n",
    "btc = yf.download(\"BTC-USD\", start=\"2020-01-01\", interval=\"1d\")\n",
    "\n",
    "# Optional: Reset index if you want 'Date' as a column\n",
    "btc.reset_index(inplace=True)\n",
    "\n",
    "# Flatten the multi-index columns\n",
    "btc.columns = btc.columns.droplevel(1)"
   ]
  },
  {
   "cell_type": "code",
   "execution_count": 4,
   "id": "29ea5f17",
   "metadata": {},
   "outputs": [],
   "source": [
    "btc['log-return'] = np.log(btc['Close']).diff()"
   ]
  },
  {
   "cell_type": "code",
   "execution_count": 5,
   "id": "644c4596",
   "metadata": {},
   "outputs": [],
   "source": [
    "btc_ret = btc['log-return'].dropna().values"
   ]
  },
  {
   "cell_type": "code",
   "execution_count": 6,
   "id": "4d2503be",
   "metadata": {},
   "outputs": [],
   "source": [
    "# Apply Maximum Entropy Bootstrap\n",
    "replicates = meboot(btc_ret, J=100)"
   ]
  },
  {
   "cell_type": "code",
   "execution_count": 9,
   "id": "78eb4fe8",
   "metadata": {},
   "outputs": [
    {
     "data": {
      "text/plain": [
       "100"
      ]
     },
     "execution_count": 9,
     "metadata": {},
     "output_type": "execute_result"
    }
   ],
   "source": [
    "len(replicates)"
   ]
  },
  {
   "cell_type": "code",
   "execution_count": null,
   "id": "6c83c901",
   "metadata": {},
   "outputs": [],
   "source": []
  }
 ],
 "metadata": {
  "kernelspec": {
   "display_name": "ml",
   "language": "python",
   "name": "python3"
  },
  "language_info": {
   "codemirror_mode": {
    "name": "ipython",
    "version": 3
   },
   "file_extension": ".py",
   "mimetype": "text/x-python",
   "name": "python",
   "nbconvert_exporter": "python",
   "pygments_lexer": "ipython3",
   "version": "3.13.5"
  }
 },
 "nbformat": 4,
 "nbformat_minor": 5
}
