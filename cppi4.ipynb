{
 "cells": [
  {
   "cell_type": "code",
   "execution_count": 1,
   "id": "96185c47",
   "metadata": {},
   "outputs": [],
   "source": [
    "import yfinance as yf\n",
    "import pandas as pd\n",
    "import numpy as np\n",
    "\n",
    "import matplotlib.pyplot as plt\n",
    "import seaborn as sns"
   ]
  },
  {
   "cell_type": "code",
   "execution_count": 2,
   "id": "5f6a6c18",
   "metadata": {},
   "outputs": [
    {
     "name": "stdout",
     "output_type": "stream",
     "text": [
      "YF.download() has changed argument auto_adjust default to True\n"
     ]
    },
    {
     "name": "stderr",
     "output_type": "stream",
     "text": [
      "[*********************100%***********************]  1 of 1 completed\n"
     ]
    }
   ],
   "source": [
    "# Download historical BTC-USD data\n",
    "btc = yf.download(\"BTC-USD\", start=\"2020-01-01\", interval=\"1d\")\n",
    "\n",
    "# Optional: Reset index if you want 'Date' as a column\n",
    "btc.reset_index(inplace=True)\n",
    "\n",
    "# Flatten the multi-index columns\n",
    "btc.columns = btc.columns.droplevel(1)"
   ]
  },
  {
   "cell_type": "code",
   "execution_count": 3,
   "id": "4475f7fa",
   "metadata": {},
   "outputs": [],
   "source": [
    "btc['log-return'] = np.log(btc['Close']).diff()"
   ]
  },
  {
   "cell_type": "code",
   "execution_count": 4,
   "id": "2e47beac",
   "metadata": {},
   "outputs": [],
   "source": [
    "btc_ret = btc['log-return'].dropna()"
   ]
  },
  {
   "cell_type": "code",
   "execution_count": 5,
   "id": "350ea548",
   "metadata": {},
   "outputs": [],
   "source": [
    "# Parameters\n",
    "floor_percentage = 0.80 # floor = 80% of initial capital\n",
    "\n",
    "risk_free_rate_annual = 0.00  # 2% annual risk-free rate\n",
    "days = 365  # 1 years\n",
    "\n",
    "safe_growth = (1 + risk_free_rate_annual) ** (1/days)"
   ]
  },
  {
   "cell_type": "code",
   "execution_count": 6,
   "id": "3484b064",
   "metadata": {},
   "outputs": [],
   "source": [
    "multiplier = 3.0\n",
    "portfolio_value = 306\n",
    "floor_value = portfolio_value * floor_percentage\n",
    "cushion = portfolio_value - floor_value"
   ]
  },
  {
   "cell_type": "code",
   "execution_count": 7,
   "id": "d3dc766c",
   "metadata": {},
   "outputs": [
    {
     "data": {
      "text/plain": [
       "183.59999999999997"
      ]
     },
     "execution_count": 7,
     "metadata": {},
     "output_type": "execute_result"
    }
   ],
   "source": [
    "risky_allocation = multiplier * cushion\n",
    "risky_allocation"
   ]
  },
  {
   "cell_type": "code",
   "execution_count": 8,
   "id": "a72bd2af",
   "metadata": {},
   "outputs": [
    {
     "data": {
      "text/plain": [
       "122.40000000000003"
      ]
     },
     "execution_count": 8,
     "metadata": {},
     "output_type": "execute_result"
    }
   ],
   "source": [
    "safe_allocation = portfolio_value - risky_allocation\n",
    "safe_allocation"
   ]
  }
 ],
 "metadata": {
  "kernelspec": {
   "display_name": "ml",
   "language": "python",
   "name": "python3"
  },
  "language_info": {
   "codemirror_mode": {
    "name": "ipython",
    "version": 3
   },
   "file_extension": ".py",
   "mimetype": "text/x-python",
   "name": "python",
   "nbconvert_exporter": "python",
   "pygments_lexer": "ipython3",
   "version": "3.13.5"
  }
 },
 "nbformat": 4,
 "nbformat_minor": 5
}
