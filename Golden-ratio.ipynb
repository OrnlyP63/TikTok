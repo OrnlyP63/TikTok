{
 "cells": [
  {
   "cell_type": "markdown",
   "id": "ba87ab0e",
   "metadata": {},
   "source": [
    "# Golden Ratio: $1.618\\cdots$\n",
    "## ความลับที่นักคณิตศาสตร์ไม่ได้บอกคุณ"
   ]
  },
  {
   "cell_type": "code",
   "execution_count": null,
   "id": "eebccee1",
   "metadata": {},
   "outputs": [],
   "source": []
  },
  {
   "cell_type": "code",
   "execution_count": 1,
   "id": "00a65a7f",
   "metadata": {},
   "outputs": [],
   "source": [
    "import matplotlib.pyplot as plt\n",
    "import seaborn as sns\n",
    "import numpy as np\n",
    "sns.set_theme()  "
   ]
  },
  {
   "cell_type": "code",
   "execution_count": 2,
   "id": "4943b2b5",
   "metadata": {},
   "outputs": [],
   "source": [
    "np.random.seed(7) # set random generator\n",
    "M = 2 # rows\n",
    "N = 2 # cols\n",
    "\n",
    "A = np.random.randn(M, N)\n",
    "v = np.random.randn(1, M)"
   ]
  },
  {
   "cell_type": "code",
   "execution_count": 3,
   "id": "68f7b2ce",
   "metadata": {},
   "outputs": [
    {
     "data": {
      "text/plain": [
       "(array([[ 1.6905257 , -0.46593737],\n",
       "        [ 0.03282016,  0.40751628]]),\n",
       " array([[-0.78892303,  0.00206557]]))"
      ]
     },
     "execution_count": 3,
     "metadata": {},
     "output_type": "execute_result"
    }
   ],
   "source": [
    "A, v"
   ]
  },
  {
   "cell_type": "code",
   "execution_count": 4,
   "id": "27af4959",
   "metadata": {},
   "outputs": [
    {
     "data": {
      "text/plain": [
       "array([[-0.78892303,  0.00206557]])"
      ]
     },
     "execution_count": 4,
     "metadata": {},
     "output_type": "execute_result"
    }
   ],
   "source": [
    "v_new = np.dot(v, A)\n",
    "v"
   ]
  },
  {
   "cell_type": "markdown",
   "id": "fb1ceda9",
   "metadata": {},
   "source": [
    "## Linear Transformation"
   ]
  },
  {
   "cell_type": "code",
   "execution_count": 5,
   "id": "bef6162e",
   "metadata": {},
   "outputs": [
    {
     "data": {
      "image/png": "[encoded data removed]",
      "text/plain": [
       "<Figure size 1500x700 with 2 Axes>"
      ]
     },
     "metadata": {},
     "output_type": "display_data"
    }
   ],
   "source": [
    "plt.figure(figsize=(15, 7))\n",
    "plt.subplot(1, 2, 1)\n",
    "plt.arrow(0, 0, v[0][0], v[0][1], head_width=0.03, head_length=0.03, linewidth=2,  fc='k', ec='k')\n",
    "plt.xlim(-2, 2)\n",
    "plt.ylim(-1, 1)\n",
    "plt.title('$v$', fontsize=16)\n",
    "\n",
    "plt.subplot(1, 2, 2)\n",
    "plt.arrow(0, 0, v_new[0][0], v_new[0][1], head_width=0.03, head_length=0.03, linewidth=2,  fc='k', ec='k')\n",
    "plt.xlim(-2, 2)\n",
    "plt.ylim(-1, 1)\n",
    "plt.title('$v_{new} = vA$', fontsize=16)\n",
    "\n",
    "plt.savefig('transformed_vec.png');"
   ]
  },
  {
   "cell_type": "markdown",
   "id": "ddb34b2a",
   "metadata": {},
   "source": [
    "# Eigenvalue และ Eigenvector\n",
    "\n",
    "พิจารณา\n",
    "\n",
    "$$Av = \\lambda v$$\n",
    "\n",
    "$v$ ถูกเรียกว่า \"eigenvector\", และ $\\lambda$ ถูกเรียกว่า \"eigenvalue\" ของ matrix $A$. นอกจากนี้ eigenvector $v$ คือสิ่งที่ถูกยึดด้วย eigenvalue $\\lambda$ โดยไม่ได้หมุน\n",
    "\n",
    "- Finding Eigenvalue\n",
    "\n",
    "    Consider $Av = \\lambda v$\n",
    "\n",
    "    $$\n",
    "    \\begin{align}\n",
    "    Av &= \\lambda v\\\\\n",
    "    Av - \\lambda v &= 0\\\\\n",
    "    (A - \\lambda I) v &= 0\\\\\n",
    "    \\end{align}\n",
    "    $$\n",
    "\n",
    "    $A - \\lambda I$ has nontrivial null space. So $det(A-\\lambda I) = 0$. The previous equation is called \"Characteristic equation\".\n",
    "\n",
    "    $$|A - \\lambda I| = 0$$\n",
    "    \n",
    "    Consider Example matrix 2x2\n",
    "    $$A = \\begin{bmatrix}a & b\\\\ c & d\\end{bmatrix}$$\n",
    "\n",
    "    So\n",
    "    $$\\begin{align}\n",
    "    \\left |\n",
    "    \\begin{bmatrix}a & b\\\\ c & d\\end{bmatrix} - \n",
    "    \\lambda\\begin{bmatrix}1 & 0\\\\ 0 & 1\\end{bmatrix}\\right | =&  0\\\\\n",
    "    \\left |\n",
    "    \\begin{bmatrix}a - \\lambda& b\\\\ c & d - \\lambda\\end{bmatrix}\\right | =&  0\\\\\n",
    "    \\lambda^2 - (a + d)\\lambda + (ad - bc) =& 0\\\\\n",
    "    \\lambda^2 - tr(A)\\lambda + det(A) =& 0\\\\\n",
    "    \\end{align}$$\n",
    "    \n",
    "- FInding Eigenvectors \n",
    "\n",
    "    Find all $v$ that $(A-\\lambda I)v = 0$"
   ]
  },
  {
   "cell_type": "markdown",
   "id": "65b95292",
   "metadata": {},
   "source": [
    "### เป้าหมายคือ: หาเวคเตอร์ ที่ถูกยืดและไม่หมุน จาก เมทริกซ์ที่เราสนใจ"
   ]
  },
  {
   "cell_type": "code",
   "execution_count": 6,
   "id": "27ecc8f2",
   "metadata": {},
   "outputs": [
    {
     "data": {
      "text/plain": [
       "array([[0.5488135 , 0.71518937],\n",
       "       [0.60276338, 0.54488318]])"
      ]
     },
     "execution_count": 6,
     "metadata": {},
     "output_type": "execute_result"
    }
   ],
   "source": [
    "np.random.seed(0)\n",
    "# Define a square matrix\n",
    "A = np.random.rand(2, 2)\n",
    "# A = A.T @ A\n",
    "\n",
    "A"
   ]
  },
  {
   "cell_type": "code",
   "execution_count": 7,
   "id": "e87663ef",
   "metadata": {},
   "outputs": [],
   "source": [
    "# Compute eigenvalues and eigenvectors\n",
    "eigenvalues, eigenvectors = np.linalg.eig(A)"
   ]
  },
  {
   "cell_type": "code",
   "execution_count": 8,
   "id": "a2a194bf",
   "metadata": {},
   "outputs": [
    {
     "data": {
      "text/plain": [
       "array([[ 0.73765643, -0.73563968],\n",
       "       [ 0.67517627,  0.67737305]])"
      ]
     },
     "execution_count": 8,
     "metadata": {},
     "output_type": "execute_result"
    }
   ],
   "source": [
    "eigenvectors"
   ]
  },
  {
   "cell_type": "code",
   "execution_count": 9,
   "id": "7dbe4e8b",
   "metadata": {},
   "outputs": [],
   "source": [
    "extend_vec = A @ eigenvectors[:, 0]"
   ]
  },
  {
   "cell_type": "code",
   "execution_count": 10,
   "id": "877dbf43",
   "metadata": {},
   "outputs": [
    {
     "data": {
      "image/png": "[encoded data removed]",
      "text/plain": [
       "<Figure size 640x480 with 1 Axes>"
      ]
     },
     "metadata": {},
     "output_type": "display_data"
    }
   ],
   "source": [
    "plt.quiver(0, 0, eigenvectors[0, 0], eigenvectors[1, 0], angles='xy', scale_units='xy', scale=1, color='r',\n",
    "               label=f'Eigenvector')\n",
    "\n",
    "plt.quiver(0, 0, extend_vec[0], extend_vec[1], angles='xy', scale_units='xy', scale=1, color='b',\n",
    "               label=f'Extend vector')\n",
    "\n",
    "plt.xlim([-5, 5])\n",
    "plt.ylim([-5, 5])\n",
    "plt.grid(True)\n",
    "plt.legend()\n",
    "plt.title('Eigenvalues and Eigenvectors')\n",
    "plt.show()"
   ]
  },
  {
   "cell_type": "markdown",
   "id": "6b7f157d",
   "metadata": {},
   "source": [
    "# Generate The Fibonacci Sequence\n",
    "\n",
    "ให้ $\\{f_n\\}$ เป็น fibonacci sequence; \n",
    "$$f_{n} = f_{n-1} + f_{n-2}$$\n",
    "\n",
    "เมื่อ $f_0 = 0,\\  f_1 = 1$"
   ]
  },
  {
   "cell_type": "code",
   "execution_count": 11,
   "id": "8693433a",
   "metadata": {},
   "outputs": [],
   "source": [
    "def fibo(n):\n",
    "    f1, f2 = 0, 1\n",
    "    \n",
    "    for _ in range(n):\n",
    "        fn = f1 + f2\n",
    "        f1, f2 = f2, fn\n",
    "        \n",
    "        yield fn"
   ]
  },
  {
   "cell_type": "code",
   "execution_count": 12,
   "id": "00f55f69",
   "metadata": {},
   "outputs": [
    {
     "data": {
      "text/plain": [
       "[1, 2, 3, 5, 8, 13, 21, 34, 55, 89]"
      ]
     },
     "execution_count": 12,
     "metadata": {},
     "output_type": "execute_result"
    }
   ],
   "source": [
    "list(fibo(10))"
   ]
  },
  {
   "cell_type": "markdown",
   "id": "9cf4d094",
   "metadata": {},
   "source": [
    "เราสามารถเปลี่ยน fibonacci sequence function เป็น first-order function.\n",
    "\n",
    "$$\\begin{align}\n",
    "f_n &= f_{n-1} + s_{n-1}\\\\\n",
    "s_n &= f_{n-1}\n",
    "\\end{align}$$\n",
    "\n",
    "นอกจากนี้เราสามารถสร้าง functions ข้างบน เป็น matrix transform\n",
    "\n",
    "$$\\begin{bmatrix}\n",
    "f_n\\\\\n",
    "s_n\n",
    "\\end{bmatrix}\n",
    "=\n",
    "\\begin{bmatrix}\n",
    "1 & 1\\\\\n",
    "1 & 0\n",
    "\\end{bmatrix}\n",
    "\\begin{bmatrix}\n",
    "f_{n-1}\\\\\n",
    "s_{n-1}\n",
    "\\end{bmatrix}$$"
   ]
  },
  {
   "cell_type": "code",
   "execution_count": 13,
   "id": "ad85ea2e",
   "metadata": {},
   "outputs": [],
   "source": [
    "fibo_transformer = np.array([[1, 1], \n",
    "                             [1, 0]])\n",
    "\n",
    "init_vect = np.array([[0],\n",
    "                      [1]])"
   ]
  },
  {
   "cell_type": "code",
   "execution_count": 15,
   "id": "333fa975",
   "metadata": {},
   "outputs": [
    {
     "name": "stdout",
     "output_type": "stream",
     "text": [
      "[1]\n",
      "[1]\n",
      "[2]\n",
      "[3]\n",
      "[5]\n",
      "[8]\n",
      "[13]\n",
      "[21]\n",
      "[34]\n",
      "[55]\n"
     ]
    }
   ],
   "source": [
    "new_vect = fibo_transformer @ init_vect\n",
    "\n",
    "for _ in range(10):\n",
    "    print(new_vect[0])\n",
    "    new_vect = fibo_transformer @ new_vect"
   ]
  },
  {
   "cell_type": "code",
   "execution_count": 16,
   "id": "8787b395",
   "metadata": {},
   "outputs": [
    {
     "data": {
      "text/plain": [
       "array([ 1.61803399, -0.61803399])"
      ]
     },
     "execution_count": 16,
     "metadata": {},
     "output_type": "execute_result"
    }
   ],
   "source": [
    "# Find the eigenvalues and eigenvectors of the matrix\n",
    "\n",
    "eigvals, eigvects = np.linalg.eig(fibo_transformer)\n",
    "\n",
    "eigvals"
   ]
  },
  {
   "cell_type": "code",
   "execution_count": 17,
   "id": "1bb7158b",
   "metadata": {},
   "outputs": [
    {
     "data": {
      "text/plain": [
       "array([[ 0.85065081, -0.52573111],\n",
       "       [ 0.52573111,  0.85065081]])"
      ]
     },
     "execution_count": 17,
     "metadata": {},
     "output_type": "execute_result"
    }
   ],
   "source": [
    "eigvects"
   ]
  },
  {
   "cell_type": "code",
   "execution_count": 18,
   "id": "074e4543",
   "metadata": {},
   "outputs": [],
   "source": [
    "f = lambda x: x * (eigvects[0, 0] / eigvects[1, 0])\n",
    "x = np.linspace(0, 100, 100)"
   ]
  },
  {
   "cell_type": "code",
   "execution_count": 19,
   "id": "7efdf0fa",
   "metadata": {},
   "outputs": [
    {
     "data": {
      "image/png": "[encoded data removed]",
      "text/plain": [
       "<Figure size 640x480 with 1 Axes>"
      ]
     },
     "metadata": {},
     "output_type": "display_data"
    }
   ],
   "source": [
    "fibo_seq = list(fibo(11))\n",
    "plt.plot(x, f(x), label='direction of the eigenvector')\n",
    "plt.plot(fibo_seq[:-1], fibo_seq[1:] , 'o', color='black', label='fibonacci seq. coweb plot')\n",
    "plt.xlabel('$f_{n-1}$', fontsize=16)\n",
    "plt.ylabel('$f_{n}$', fontsize=16)\n",
    "plt.legend()\n",
    "plt.savefig('eigen_fibo.png');"
   ]
  },
  {
   "cell_type": "markdown",
   "id": "3fc27c32",
   "metadata": {},
   "source": [
    "# Finding Golden Ratio\n",
    "\n",
    "Transform the fibonacci sequence function to first-order function.\n",
    "\n",
    "$$\\begin{align}\n",
    "f_n &= f_{n-1} + s_{n-1}\\\\\n",
    "s_n &= f_{n-1}\n",
    "\\end{align}$$\n",
    "\n",
    "Let reconstruct this functions into a matrix transform\n",
    "\n",
    "$$\\begin{bmatrix}\n",
    "f_n\\\\\n",
    "s_n\n",
    "\\end{bmatrix}\n",
    "=\n",
    "\\begin{bmatrix}\n",
    "1 & 1\\\\\n",
    "1 & 0\n",
    "\\end{bmatrix}\n",
    "\\begin{bmatrix}\n",
    "f_{n-1}\\\\\n",
    "s_{n-1}\n",
    "\\end{bmatrix}$$\n",
    "\n",
    "Find the eigenvalue of fibonacci transformer matrix:\n",
    "\n",
    "Consider \n",
    "$$\\left |\\begin{bmatrix}1 - \\lambda & 1\\\\ 1 & 0 - \\lambda\\end{bmatrix}\\right | =  0$$\n",
    "\n",
    "Implies\n",
    "$$\\begin{align}\n",
    "\\lambda^2 - (1 + 0)\\lambda + (1 \\times 0 - 1\\times 1) &= 0\\\\\n",
    "\\lambda^2 - \\lambda - 1 &= 0\n",
    "\\end{align}$$\n",
    "\n",
    "From quadratic formula:\n",
    "$$\n",
    "x = \\frac{{-b \\pm \\sqrt{{b^2 - 4ac}}}}{{2a}}\n",
    "$$\n",
    "\n",
    "where $a$, $b$, and $c$ are coefficients, and $x$ represents the variable.\n",
    "\n",
    "Implies\n",
    "\n",
    "$$\\lambda = \\frac{{-(-1) \\pm \\sqrt{{(-1)^2 - 4\\times 1\\times -1)}}}}{{2\\times 1}} = \\frac{{1 \\pm \\sqrt{{1 + 4}}}}{{2}} = \\frac{{1 \\pm \\sqrt{{5}}}}{{2}}$$\n",
    "\n",
    "That means $\\lambda_1 \\approx 1.618,\\ \\lambda_2 \\approx -0.618$. \n",
    "\n",
    "Eigen value of fibonacci transformer matrix is the golden ratio."
   ]
  }
 ],
 "metadata": {
  "kernelspec": {
   "display_name": "ml",
   "language": "python",
   "name": "python3"
  },
  "language_info": {
   "codemirror_mode": {
    "name": "ipython",
    "version": 3
   },
   "file_extension": ".py",
   "mimetype": "text/x-python",
   "name": "python",
   "nbconvert_exporter": "python",
   "pygments_lexer": "ipython3",
   "version": "3.13.3"
  }
 },
 "nbformat": 4,
 "nbformat_minor": 5
}
