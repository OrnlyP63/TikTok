{
 "cells": [
  {
   "cell_type": "code",
   "execution_count": 1,
   "id": "c313c87a",
   "metadata": {},
   "outputs": [],
   "source": [
    "import numpy as np\n",
    "import matplotlib.pyplot as plt"
   ]
  },
  {
   "cell_type": "markdown",
   "id": "425e25a0",
   "metadata": {},
   "source": [
    "# Numerical Root-Finding Methods\n",
    "\n",
    "## 1️⃣ Bisection Method\n",
    "\n",
    "**Idea:** If a continuous function $f(x)$ changes sign on $[a,b]$, there exists at least one root $c \\in [a,b]$ such that $f(c) = 0$.  \n",
    "\n",
    "**Algorithm:**\n",
    "1. Compute midpoint:  \n",
    "$$\n",
    "c = \\frac{a+b}{2}\n",
    "$$\n",
    "2. Evaluate $f(c)$.  \n",
    "3. Choose the subinterval containing the root:  \n",
    "$$\n",
    "\\text{if } f(a) \\cdot f(c) < 0, \\text{ root in } [a,c]  \n",
    "\\text{else, root in } [c,b]\n",
    "$$\n",
    "4. Repeat until interval length $|b-a| < \\epsilon$.  \n",
    "\n",
    "**Convergence:** Linear. Each iteration reduces interval by factor 2. Number of iterations to reach tolerance $\\epsilon$:  \n",
    "$$\n",
    "n \\approx \\frac{\\log((b-a)/\\epsilon)}{\\log 2}\n",
    "$$\n",
    "\n",
    "---\n",
    "\n",
    "## 2️⃣ Newton-Raphson Method\n",
    "\n",
    "**Idea:** Use the tangent line at $x_n$ to approximate the root.\n",
    "\n",
    "- Taylor expansion around $x_n$:  \n",
    "$$\n",
    "f(x) \\approx f(x_n) + f'(x_n)(x - x_n)\n",
    "$$\n",
    "- Solve for root of linear approximation:  \n",
    "$$\n",
    "0 = f(x_n) + f'(x_n)(x_{n+1} - x_n) \\implies x_{n+1} = x_n - \\frac{f(x_n)}{f'(x_n)}\n",
    "$$\n",
    "\n",
    "**Convergence:** Quadratic if $x_0$ is close to the root.  \n",
    "\n",
    "**Limitations:**\n",
    "- Fails if $f'(x_n) \\approx 0$.  \n",
    "- Divergence possible if guess is far from root.\n",
    "\n",
    "---\n",
    "\n",
    "## 3️⃣ Secant Method\n",
    "\n",
    "**Idea:** Approximate derivative using two previous points instead of exact $f'(x)$:  \n",
    "$$\n",
    "f'(x_n) \\approx \\frac{f(x_n) - f(x_{n-1})}{x_n - x_{n-1}}\n",
    "$$\n",
    "- Newton-Raphson step becomes:  \n",
    "$$\n",
    "x_{n+1} = x_n - f(x_n) \\frac{x_n - x_{n-1}}{f(x_n) - f(x_{n-1})}\n",
    "$$\n",
    "\n",
    "**Convergence:** Superlinear, roughly $1.618$ (golden ratio). Slower than Newton-Raphson but no derivative needed.\n",
    "\n",
    "---\n",
    "\n",
    "### 🔹 Summary Table\n",
    "\n",
    "| Method | Convergence Rate | Requires Derivative? | Guaranteed? |\n",
    "|--------|-----------------|-------------------|------------|\n",
    "| Bisection | Linear | No | Yes (if sign change) |\n",
    "| Newton-Raphson | Quadratic | Yes | Not always |\n",
    "| Secant | ~1.618 | No | Not guaranteed |\n"
   ]
  },
  {
   "cell_type": "code",
   "execution_count": 3,
   "id": "feaffb9c",
   "metadata": {},
   "outputs": [],
   "source": [
    "def bisection(f, a, b, tol=1e-6, max_iter=100):\n",
    "    if f(a) * f(b) > 0:\n",
    "        raise ValueError(\"The function must change sign over [a, b]\")\n",
    "    \n",
    "    for i in range(max_iter):\n",
    "        c = (a + b) / 2\n",
    "        fc = f(c)\n",
    "        if abs(fc) < tol or (b - a)/2 < tol:\n",
    "            return c\n",
    "        if f(a) * fc < 0:\n",
    "            b = c\n",
    "        else:\n",
    "            a = c\n",
    "    return c"
   ]
  },
  {
   "cell_type": "code",
   "execution_count": 4,
   "id": "fd4d6fe1",
   "metadata": {},
   "outputs": [
    {
     "name": "stdout",
     "output_type": "stream",
     "text": [
      "Root (Bisection): 1.5213804244995117\n"
     ]
    }
   ],
   "source": [
    "# Example\n",
    "f = lambda x: x**3 - x - 2\n",
    "root = bisection(f, 1, 2)\n",
    "print(\"Root (Bisection):\", root)"
   ]
  },
  {
   "cell_type": "code",
   "execution_count": 5,
   "id": "3cb219b4",
   "metadata": {},
   "outputs": [],
   "source": [
    "def newton_raphson(f, df, x0, tol=1e-6, max_iter=100):\n",
    "    x = x0\n",
    "    for i in range(max_iter):\n",
    "        x_new = x - f(x)/df(x)\n",
    "        if abs(x_new - x) < tol:\n",
    "            return x_new\n",
    "        x = x_new\n",
    "    return x\n"
   ]
  },
  {
   "cell_type": "code",
   "execution_count": 6,
   "id": "5d32ec8e",
   "metadata": {},
   "outputs": [
    {
     "name": "stdout",
     "output_type": "stream",
     "text": [
      "Root (Newton-Raphson): 1.5213797068045751\n"
     ]
    }
   ],
   "source": [
    "# Example\n",
    "f = lambda x: x**3 - x - 2\n",
    "df = lambda x: 3*x**2 - 1\n",
    "root = newton_raphson(f, df, x0=1.5)\n",
    "print(\"Root (Newton-Raphson):\", root)"
   ]
  },
  {
   "cell_type": "code",
   "execution_count": 7,
   "id": "4d7c2b74",
   "metadata": {},
   "outputs": [],
   "source": [
    "def secant(f, x0, x1, tol=1e-6, max_iter=100):\n",
    "    for i in range(max_iter):\n",
    "        if abs(f(x1) - f(x0)) < 1e-12:\n",
    "            return x1\n",
    "        x2 = x1 - f(x1)*(x1 - x0)/(f(x1) - f(x0))\n",
    "        if abs(x2 - x1) < tol:\n",
    "            return x2\n",
    "        x0, x1 = x1, x2\n",
    "    return x2"
   ]
  },
  {
   "cell_type": "code",
   "execution_count": 8,
   "id": "3ce0b462",
   "metadata": {},
   "outputs": [
    {
     "name": "stdout",
     "output_type": "stream",
     "text": [
      "Root (Secant): 1.5213797068045645\n"
     ]
    }
   ],
   "source": [
    "# Example\n",
    "f = lambda x: x**3 - x - 2\n",
    "root = secant(f, 1, 2)\n",
    "print(\"Root (Secant):\", root)"
   ]
  }
 ],
 "metadata": {
  "kernelspec": {
   "display_name": "ml",
   "language": "python",
   "name": "python3"
  },
  "language_info": {
   "codemirror_mode": {
    "name": "ipython",
    "version": 3
   },
   "file_extension": ".py",
   "mimetype": "text/x-python",
   "name": "python",
   "nbconvert_exporter": "python",
   "pygments_lexer": "ipython3",
   "version": "3.13.5"
  }
 },
 "nbformat": 4,
 "nbformat_minor": 5
}
