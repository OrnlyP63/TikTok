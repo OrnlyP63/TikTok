{
 "cells": [
  {
   "cell_type": "markdown",
   "id": "ebfd2906",
   "metadata": {},
   "source": [
    "# แก้โจทย์ Calculus ด้วย Python ภายใน 3 ขั้นตอน\n",
    "\n",
    "## Step 1: Define the Function\n",
    "\n",
    "Find the maximum value of the function\n",
    "\n",
    "$$f(x) = -2x^2 + 4x + 1$$"
   ]
  },
  {
   "cell_type": "code",
   "execution_count": 1,
   "id": "636a70f8",
   "metadata": {},
   "outputs": [],
   "source": [
    "from sympy import symbols, diff, solve, simplify"
   ]
  },
  {
   "cell_type": "code",
   "execution_count": 2,
   "id": "5ce9ec22",
   "metadata": {},
   "outputs": [],
   "source": [
    "# Define the symbol and function\n",
    "x = symbols('x')\n",
    "f = -2*x**2 + 4*x + 1"
   ]
  },
  {
   "cell_type": "markdown",
   "id": "9850e75d",
   "metadata": {},
   "source": [
    "##  Step 2: Find the Critical Points\n",
    "\n",
    "Take the derivative of the function, set it to 0, and solve.\n",
    "\n",
    "$$\\begin{align}\n",
    "f'(x) &= -4x + 4 \\\\\n",
    "0 &= -4x + 4\\\\\n",
    "4x &=  4\\\\\n",
    "x &= 1\n",
    "\\end{align}$$"
   ]
  },
  {
   "cell_type": "code",
   "execution_count": 3,
   "id": "f6041c32",
   "metadata": {},
   "outputs": [],
   "source": [
    "# Take the first derivative\n",
    "f_prime = diff(f, x)\n",
    "\n",
    "# Solve f'(x) = 0\n",
    "critical_points = solve(f_prime, x)"
   ]
  },
  {
   "cell_type": "code",
   "execution_count": 4,
   "id": "11219a6d",
   "metadata": {},
   "outputs": [
    {
     "data": {
      "text/latex": [
       "$\\displaystyle 1$"
      ],
      "text/plain": [
       "1"
      ]
     },
     "execution_count": 4,
     "metadata": {},
     "output_type": "execute_result"
    }
   ],
   "source": [
    "critical_points[0]"
   ]
  },
  {
   "cell_type": "markdown",
   "id": "207922c3",
   "metadata": {},
   "source": [
    "## Step 3: Evaluate and Interpret\n",
    "\n",
    "lug the critical point(s) back into the original function to find the maximum value.\n",
    "\n",
    "Let $x = 1$\n",
    "\n",
    "$$\\begin{align}\n",
    "f(x = 1) &= -2(1)^2 + 4(1) + 1\\\\\n",
    "&= -2 + 4 + 1\\\\\n",
    "&=3\n",
    "\\end{align}$$\n"
   ]
  },
  {
   "cell_type": "code",
   "execution_count": 5,
   "id": "508359da",
   "metadata": {},
   "outputs": [
    {
     "data": {
      "text/latex": [
       "$\\displaystyle 3$"
      ],
      "text/plain": [
       "3"
      ]
     },
     "execution_count": 5,
     "metadata": {},
     "output_type": "execute_result"
    }
   ],
   "source": [
    "# Evaluate the function at x = 1\n",
    "max_value = f.subs(x, critical_points[0])\n",
    "max_value"
   ]
  },
  {
   "cell_type": "code",
   "execution_count": 6,
   "id": "cfcf9d83",
   "metadata": {},
   "outputs": [
    {
     "name": "stdout",
     "output_type": "stream",
     "text": [
      "Maximum value is 3 at x = 1\n"
     ]
    }
   ],
   "source": [
    "print(f\"Maximum value is {max_value} at x = {critical_points[0]}\")"
   ]
  }
 ],
 "metadata": {
  "kernelspec": {
   "display_name": "ml",
   "language": "python",
   "name": "python3"
  },
  "language_info": {
   "codemirror_mode": {
    "name": "ipython",
    "version": 3
   },
   "file_extension": ".py",
   "mimetype": "text/x-python",
   "name": "python",
   "nbconvert_exporter": "python",
   "pygments_lexer": "ipython3",
   "version": "3.13.5"
  }
 },
 "nbformat": 4,
 "nbformat_minor": 5
}
