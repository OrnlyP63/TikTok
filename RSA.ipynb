{
 "cells": [
  {
   "cell_type": "markdown",
   "id": "3b1d8a22",
   "metadata": {},
   "source": [
    "# RSA\n",
    "![](./Contents-44.jpg)\n",
    "![](./Contents-45.jpg)"
   ]
  },
  {
   "cell_type": "code",
   "execution_count": 16,
   "id": "9b17c4d6",
   "metadata": {},
   "outputs": [],
   "source": [
    "import math\n",
    "import libnum"
   ]
  },
  {
   "cell_type": "markdown",
   "id": "3083ede9",
   "metadata": {},
   "source": [
    "## กระบวนการเข้ารหัส\n",
    "\n",
    "1. Alice จะต้องเลือกจำนวนเฉพาะที่มีขนาดใหญ่สองจำนวนคือ $p, q$ และสร้าง $n = pq$ ในที่นี้ เธอเลือก $p = 11, q = 31; n = 11 \\times 31 = 341.$ (ตัวอย่างข้างต้นเราจะใช้ตัวจำนวนเฉพาะขนาดเล็กก่อน เพื่อการง่ายต่อการเข้าใจ)"
   ]
  },
  {
   "cell_type": "code",
   "execution_count": 17,
   "id": "bd602e9c",
   "metadata": {},
   "outputs": [
    {
     "data": {
      "text/plain": [
       "341"
      ]
     },
     "execution_count": 17,
     "metadata": {},
     "output_type": "execute_result"
    }
   ],
   "source": [
    "p = 11\n",
    "q = 31\n",
    "\n",
    "n = p * q\n",
    "n"
   ]
  },
  {
   "cell_type": "markdown",
   "id": "4993fe78",
   "metadata": {},
   "source": [
    "2. Alice ต้องคำนวณหา Euler's totient ของ $n=(11-1)\\times(31-1)=300$ จากนั้นจึงเลือก $e$ ที่เป็น relatively prime กับ $300$ เธอเลือก $e = 7$.\n",
    "\n",
    "### Euler’s totient function\n",
    "$$\\phi = n\\prod_{p\\vert n} \\left(1 - \\frac{1}{p}\\right)$$\n",
    "\n",
    "Let $p,\\ q$ are prime numbers and $n = pq$. So, $$\\phi = \\phi(p)\\phi(q) = (p-1)(q-1)$$\n",
    "\n",
    "### Relative Prime\n",
    "\n",
    "If $gcd(p, q) = 1$ then $p$ is a relative prime of $q$."
   ]
  },
  {
   "cell_type": "code",
   "execution_count": 18,
   "id": "2d2ac8b3",
   "metadata": {},
   "outputs": [
    {
     "data": {
      "text/plain": [
       "300"
      ]
     },
     "execution_count": 18,
     "metadata": {},
     "output_type": "execute_result"
    }
   ],
   "source": [
    "phi = (p-1)*(q-1)\n",
    "\n",
    "phi"
   ]
  },
  {
   "cell_type": "code",
   "execution_count": 19,
   "id": "d1376676",
   "metadata": {},
   "outputs": [
    {
     "data": {
      "text/plain": [
       "7"
      ]
     },
     "execution_count": 19,
     "metadata": {},
     "output_type": "execute_result"
    }
   ],
   "source": [
    "# 1 < e < phi # encrption\n",
    "\n",
    "for e in range(2, phi):\n",
    "    result = math.gcd(e, phi)\n",
    "    if result == 1:\n",
    "        break\n",
    "\n",
    "e"
   ]
  },
  {
   "cell_type": "markdown",
   "id": "e6aedf30",
   "metadata": {},
   "source": [
    "3. Alice หา $d$ ที่เป็น modular inverse ของ $e \\mod \\phi(n)$ หรือก็คือ $$de \\equiv 1 \\mod 300$$ โดย $d$ ที่ได้คือ $d = 43$."
   ]
  },
  {
   "cell_type": "code",
   "execution_count": 20,
   "id": "e27ff294",
   "metadata": {},
   "outputs": [
    {
     "data": {
      "text/plain": [
       "43"
      ]
     },
     "execution_count": 20,
     "metadata": {},
     "output_type": "execute_result"
    }
   ],
   "source": [
    "d = libnum.invmod(e, phi)\n",
    "d"
   ]
  },
  {
   "cell_type": "markdown",
   "id": "3dc03f89",
   "metadata": {},
   "source": [
    "4. Alice ส่ง $n = 341, e = 7$ (public key) ไปให้ Bob เข้าต้องการส่งเลข $m = 8$ ให้ Alice ดังนั้น $$\\begin{align*}\\text{encryption message} &= m^e \\mod n\\\\ &= 8^7 \\mod 341\\\\ &= 2\\end{align*}$$ Bob จึงส่ง encryption message = 2 ให้ Alice"
   ]
  },
  {
   "cell_type": "code",
   "execution_count": 21,
   "id": "e23c494c",
   "metadata": {},
   "outputs": [
    {
     "data": {
      "text/plain": [
       "2"
      ]
     },
     "execution_count": 21,
     "metadata": {},
     "output_type": "execute_result"
    }
   ],
   "source": [
    "m = 8 # message\n",
    "\n",
    "encryption_message = pow(m, e, n)\n",
    "encryption_message"
   ]
  },
  {
   "cell_type": "markdown",
   "id": "c6fa28c6",
   "metadata": {},
   "source": [
    "5. Alice ได้รับ encryption message = 2 จากนั้นเธอจึงทำการ decryption โดย $$\\begin{align*}\\text{message} &= \\text{(encryption message)}^d \\mod 341\\\\ &= 2^{43} \\mod 341\\\\ &= 8796093022208 \\mod 341\\\\ &= 8\\end{align*}$$"
   ]
  },
  {
   "cell_type": "code",
   "execution_count": 22,
   "id": "89706873",
   "metadata": {},
   "outputs": [
    {
     "data": {
      "text/plain": [
       "8"
      ]
     },
     "execution_count": 22,
     "metadata": {},
     "output_type": "execute_result"
    }
   ],
   "source": [
    "decryption_message = pow(encryption_message, d, n)\n",
    "decryption_message"
   ]
  },
  {
   "cell_type": "markdown",
   "id": "cbfaab39",
   "metadata": {},
   "source": []
  }
 ],
 "metadata": {
  "kernelspec": {
   "display_name": "ml",
   "language": "python",
   "name": "python3"
  },
  "language_info": {
   "codemirror_mode": {
    "name": "ipython",
    "version": 3
   },
   "file_extension": ".py",
   "mimetype": "text/x-python",
   "name": "python",
   "nbconvert_exporter": "python",
   "pygments_lexer": "ipython3",
   "version": "3.13.3"
  }
 },
 "nbformat": 4,
 "nbformat_minor": 5
}
